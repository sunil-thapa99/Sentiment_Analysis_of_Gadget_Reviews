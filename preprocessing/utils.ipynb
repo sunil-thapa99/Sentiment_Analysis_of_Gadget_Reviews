{
 "cells": [
  {
   "cell_type": "code",
   "execution_count": 19,
   "id": "e516dcfc",
   "metadata": {},
   "outputs": [],
   "source": [
    "import re\n",
    "\n",
    "class Preprocessing:\n",
    "    def __init__(self, text):\n",
    "        self.text = text\n",
    "        \n",
    "    def remove_URL(self):\n",
    "        url = re.compile(r'https?://\\S+|www\\.\\S+')\n",
    "        return url.sub(r'', self.text)\n",
    "#         text = \n",
    "#         return re.sub(r'https?://\\S+|www\\.\\S+', self.text)\n",
    "    \n",
    "    def remove_emoji(self):\n",
    "        return ''\n",
    "    \n",
    "    def remove_html(self):\n",
    "        return\n",
    "    \n",
    "    def remove_punct(self):\n",
    "        return ''\n",
    "    \n",
    "    def remove_quotes(self):\n",
    "        return ''"
   ]
  },
  {
   "cell_type": "code",
   "execution_count": null,
   "id": "40fdd058",
   "metadata": {},
   "outputs": [],
   "source": []
  },
  {
   "cell_type": "code",
   "execution_count": null,
   "id": "acbff5da",
   "metadata": {},
   "outputs": [],
   "source": []
  }
 ],
 "metadata": {
  "kernelspec": {
   "display_name": "Python 3 (ipykernel)",
   "language": "python",
   "name": "python3"
  },
  "language_info": {
   "codemirror_mode": {
    "name": "ipython",
    "version": 3
   },
   "file_extension": ".py",
   "mimetype": "text/x-python",
   "name": "python",
   "nbconvert_exporter": "python",
   "pygments_lexer": "ipython3",
   "version": "3.9.12"
  }
 },
 "nbformat": 4,
 "nbformat_minor": 5
}
